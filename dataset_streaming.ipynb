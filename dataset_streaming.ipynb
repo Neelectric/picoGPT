{
 "cells": [
  {
   "cell_type": "code",
   "execution_count": 17,
   "metadata": {},
   "outputs": [
    {
     "data": {
      "application/vnd.jupyter.widget-view+json": {
       "model_id": "2e139aa86ba341419e7a4413624cd8f8",
       "version_major": 2,
       "version_minor": 0
      },
      "text/plain": [
       "Resolving data files:   0%|          | 0/27838 [00:00<?, ?it/s]"
      ]
     },
     "metadata": {},
     "output_type": "display_data"
    }
   ],
   "source": [
    "import torch\n",
    "from datasets import load_dataset\n",
    "\n",
    "dataset = load_dataset('mlfoundations/dclm-baseline-1.0', split='train', streaming=True)\n",
    "shuffled_dataset = dataset.shuffle(seed=42, buffer_size=10_000)\n",
    "keep_columns = ['metadata', 'text']\n",
    "shuffled_dataset = shuffled_dataset.remove_columns([col for col in shuffled_dataset.column_names if col not in keep_columns])"
   ]
  },
  {
   "cell_type": "code",
   "execution_count": 18,
   "metadata": {},
   "outputs": [],
   "source": [
    "dataloader = torch.utils.data.DataLoader(shuffled_dataset, num_workers=4)"
   ]
  },
  {
   "cell_type": "code",
   "execution_count": 19,
   "metadata": {},
   "outputs": [
    {
     "data": {
      "text/plain": [
       "datasets.iterable_dataset.IterableDataset"
      ]
     },
     "execution_count": 19,
     "metadata": {},
     "output_type": "execute_result"
    }
   ],
   "source": [
    "type(shuffled_dataset)"
   ]
  },
  {
   "cell_type": "code",
   "execution_count": 29,
   "metadata": {},
   "outputs": [
    {
     "name": "stderr",
     "output_type": "stream",
     "text": [
      "100%|██████████| 5000/5000 [00:08<00:00, 597.45it/s] \n"
     ]
    }
   ],
   "source": [
    "from tqdm import tqdm\n",
    "dataset_iterator = iter(shuffled_dataset)\n",
    "liste = []\n",
    "for i in tqdm(range(5000), dynamic_ncols=True):\n",
    "    liste.append(next(dataset_iterator)['text'])"
   ]
  },
  {
   "cell_type": "code",
   "execution_count": 31,
   "metadata": {},
   "outputs": [],
   "source": [
    "from transformers import AutoTokenizer\n",
    "\n",
    "model_id = \"allenai/OLMo-2-1124-7B-Instruct\"\n",
    "tokenizer = AutoTokenizer.from_pretrained(model_id)"
   ]
  },
  {
   "cell_type": "code",
   "execution_count": 42,
   "metadata": {},
   "outputs": [
    {
     "name": "stdout",
     "output_type": "stream",
     "text": [
      "Skip to definition.\n",
      "\n",
      "Noun: vestry  ves-tree\n",
      "  1. In the Protestant Episcopal Church: a committee elected by the congregation to work with the churchwardens in managing the temporal affairs of the church\n",
      "  2. A room in a church where sacred vessels and vestments are kept or meetings are held\n",
      "    - sacristy\n",
      "\n",
      "Derived forms: vestries\n",
      "\n",
      "Type of: commission, committee, room\n",
      "\n",
      "Part of: church, church building\n",
      "\n",
      "Encyclopedia: Vestry\n"
     ]
    }
   ],
   "source": [
    "tokens = tokenizer(liste[0])['input_ids']\n",
    "\n",
    "detokenized = tokenizer.batch_decode(tokens)\n",
    "print(\"\".join(detokenized))"
   ]
  },
  {
   "cell_type": "code",
   "execution_count": 1,
   "metadata": {},
   "outputs": [
    {
     "data": {
      "text/plain": [
       "tensor([[ 0.0915, -0.0590]], grad_fn=<MmBackward0>)"
      ]
     },
     "execution_count": 1,
     "metadata": {},
     "output_type": "execute_result"
    }
   ],
   "source": []
  },
  {
   "cell_type": "code",
   "execution_count": 15,
   "metadata": {},
   "outputs": [
    {
     "name": "stdout",
     "output_type": "stream",
     "text": [
      "tensor([[ 2.,  1.,  1.],\n",
      "        [ 0., -8., -2.],\n",
      "        [ 0.,  0.,  1.]], grad_fn=<MmBackward0>)\n",
      "tensor([[ 2.,  0.,  0.],\n",
      "        [ 1., -8.,  0.],\n",
      "        [ 1., -2.,  1.]], grad_fn=<PermuteBackward0>)\n"
     ]
    },
    {
     "data": {
      "text/plain": [
       "tensor([[  6., -10.,   1.],\n",
       "        [-10.,  68.,  -2.],\n",
       "        [  1.,  -2.,   1.]], grad_fn=<MmBackward0>)"
      ]
     },
     "execution_count": 15,
     "metadata": {},
     "output_type": "execute_result"
    }
   ],
   "source": []
  }
 ],
 "metadata": {
  "kernelspec": {
   "display_name": ".venv",
   "language": "python",
   "name": "python3"
  },
  "language_info": {
   "codemirror_mode": {
    "name": "ipython",
    "version": 3
   },
   "file_extension": ".py",
   "mimetype": "text/x-python",
   "name": "python",
   "nbconvert_exporter": "python",
   "pygments_lexer": "ipython3",
   "version": "3.12.4"
  }
 },
 "nbformat": 4,
 "nbformat_minor": 2
}
